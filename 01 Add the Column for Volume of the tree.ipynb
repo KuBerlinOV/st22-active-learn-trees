{
 "cells": [
  {
   "cell_type": "markdown",
   "id": "343e23b0",
   "metadata": {},
   "source": [
    "# Machine Learning Algorithm"
   ]
  },
  {
   "cell_type": "markdown",
   "id": "03faaacd",
   "metadata": {},
   "source": [
    "### Setup\n",
    "1. Importing relevant libraries\n",
    "2. Importing the Dataset\n",
    "\n",
    "### Manual\n",
    "1. Search for DISCUSS to see what we could discuss \n",
    "2. and search for HELP! to help me :)"
   ]
  },
  {
   "cell_type": "code",
   "execution_count": 11,
   "id": "90054321",
   "metadata": {},
   "outputs": [],
   "source": [
    "# This is the convention used to import Pandas.\n",
    "import pandas as pd\n",
    "import numpy as np\n",
    "import matplotlib.pyplot as plt\n",
    "import scipy as sp\n",
    "import seaborn as sn\n"
   ]
  },
  {
   "cell_type": "code",
   "execution_count": 39,
   "id": "e115b0dc",
   "metadata": {},
   "outputs": [],
   "source": [
    "import math"
   ]
  },
  {
   "cell_type": "code",
   "execution_count": 3,
   "id": "0144dc20",
   "metadata": {},
   "outputs": [],
   "source": [
    "#import plotly.express as px"
   ]
  },
  {
   "cell_type": "code",
   "execution_count": 9,
   "id": "b879c462",
   "metadata": {},
   "outputs": [
    {
     "name": "stderr",
     "output_type": "stream",
     "text": [
      "/Users/anna/opt/anaconda3/lib/python3.9/site-packages/IPython/core/interactiveshell.py:3444: DtypeWarning: Columns (3) have mixed types.Specify dtype option on import or set low_memory=False.\n",
      "  exec(code_obj, self.user_global_ns, self.user_ns)\n"
     ]
    }
   ],
   "source": [
    "df = pd.read_csv('berlin_trees_data.csv')"
   ]
  },
  {
   "cell_type": "code",
   "execution_count": 10,
   "id": "c42988ee",
   "metadata": {},
   "outputs": [
    {
     "data": {
      "text/html": [
       "<div>\n",
       "<style scoped>\n",
       "    .dataframe tbody tr th:only-of-type {\n",
       "        vertical-align: middle;\n",
       "    }\n",
       "\n",
       "    .dataframe tbody tr th {\n",
       "        vertical-align: top;\n",
       "    }\n",
       "\n",
       "    .dataframe thead th {\n",
       "        text-align: right;\n",
       "    }\n",
       "</style>\n",
       "<table border=\"1\" class=\"dataframe\">\n",
       "  <thead>\n",
       "    <tr style=\"text-align: right;\">\n",
       "      <th></th>\n",
       "      <th>Unnamed: 0</th>\n",
       "      <th>ID</th>\n",
       "      <th>Baum Nr.</th>\n",
       "      <th>Objektnr.</th>\n",
       "      <th>Objektname</th>\n",
       "      <th>Baumart deutsch</th>\n",
       "      <th>Baumart botanisch</th>\n",
       "      <th>Gattung botanisch</th>\n",
       "      <th>Straße</th>\n",
       "      <th>Hausnr.</th>\n",
       "      <th>Hausnr. Zusatz</th>\n",
       "      <th>Pflanzjahr</th>\n",
       "      <th>Standalter</th>\n",
       "      <th>Krone Durchmesser in m</th>\n",
       "      <th>Stamm Umfang in cm</th>\n",
       "      <th>Baumhöhe in m</th>\n",
       "      <th>Bezirk</th>\n",
       "    </tr>\n",
       "  </thead>\n",
       "  <tbody>\n",
       "    <tr>\n",
       "      <th>0</th>\n",
       "      <td>0</td>\n",
       "      <td>00008100:000c1b36</td>\n",
       "      <td>16</td>\n",
       "      <td>5</td>\n",
       "      <td>Abbestraße</td>\n",
       "      <td>Gemeine Rosskastanie</td>\n",
       "      <td>Aesculus hippocastanum</td>\n",
       "      <td>AESCULUS</td>\n",
       "      <td>Abbestraße</td>\n",
       "      <td>19</td>\n",
       "      <td>0</td>\n",
       "      <td>1936</td>\n",
       "      <td>86</td>\n",
       "      <td>11.0</td>\n",
       "      <td>189.0</td>\n",
       "      <td>17.0</td>\n",
       "      <td>Charlottenburg-Wilmersdorf</td>\n",
       "    </tr>\n",
       "    <tr>\n",
       "      <th>1</th>\n",
       "      <td>1</td>\n",
       "      <td>00008100:000c1b35</td>\n",
       "      <td>17</td>\n",
       "      <td>5</td>\n",
       "      <td>Abbestraße</td>\n",
       "      <td>Gemeine Rosskastanie</td>\n",
       "      <td>Aesculus hippocastanum</td>\n",
       "      <td>AESCULUS</td>\n",
       "      <td>Abbestraße</td>\n",
       "      <td>19</td>\n",
       "      <td>0</td>\n",
       "      <td>1926</td>\n",
       "      <td>96</td>\n",
       "      <td>12.0</td>\n",
       "      <td>185.0</td>\n",
       "      <td>25.0</td>\n",
       "      <td>Charlottenburg-Wilmersdorf</td>\n",
       "    </tr>\n",
       "    <tr>\n",
       "      <th>2</th>\n",
       "      <td>2</td>\n",
       "      <td>00008100:000c1b32</td>\n",
       "      <td>20</td>\n",
       "      <td>5</td>\n",
       "      <td>Abbestraße</td>\n",
       "      <td>Gemeine Rosskastanie</td>\n",
       "      <td>Aesculus hippocastanum</td>\n",
       "      <td>AESCULUS</td>\n",
       "      <td>Abbestraße</td>\n",
       "      <td>14-20</td>\n",
       "      <td>0</td>\n",
       "      <td>1980</td>\n",
       "      <td>42</td>\n",
       "      <td>8.0</td>\n",
       "      <td>135.0</td>\n",
       "      <td>12.0</td>\n",
       "      <td>Charlottenburg-Wilmersdorf</td>\n",
       "    </tr>\n",
       "    <tr>\n",
       "      <th>3</th>\n",
       "      <td>3</td>\n",
       "      <td>00008100:000c1aa3</td>\n",
       "      <td>24</td>\n",
       "      <td>241</td>\n",
       "      <td>Am Rupenhorn</td>\n",
       "      <td>Gemeine Rosskastanie</td>\n",
       "      <td>Aesculus hippocastanum</td>\n",
       "      <td>AESCULUS</td>\n",
       "      <td>Am Rupenhorn</td>\n",
       "      <td>3b</td>\n",
       "      <td>0</td>\n",
       "      <td>1975</td>\n",
       "      <td>47</td>\n",
       "      <td>8.0</td>\n",
       "      <td>215.0</td>\n",
       "      <td>17.0</td>\n",
       "      <td>Charlottenburg-Wilmersdorf</td>\n",
       "    </tr>\n",
       "    <tr>\n",
       "      <th>4</th>\n",
       "      <td>4</td>\n",
       "      <td>00008100:000c196a</td>\n",
       "      <td>33</td>\n",
       "      <td>348</td>\n",
       "      <td>Arysallee</td>\n",
       "      <td>Amerikanische Rot-Eiche</td>\n",
       "      <td>Quercus rubra</td>\n",
       "      <td>QUERCUS</td>\n",
       "      <td>Arysallee</td>\n",
       "      <td>11</td>\n",
       "      <td>0</td>\n",
       "      <td>1980</td>\n",
       "      <td>42</td>\n",
       "      <td>13.0</td>\n",
       "      <td>176.0</td>\n",
       "      <td>17.0</td>\n",
       "      <td>Charlottenburg-Wilmersdorf</td>\n",
       "    </tr>\n",
       "  </tbody>\n",
       "</table>\n",
       "</div>"
      ],
      "text/plain": [
       "   Unnamed: 0                 ID Baum Nr. Objektnr.    Objektname  \\\n",
       "0           0  00008100:000c1b36       16         5    Abbestraße   \n",
       "1           1  00008100:000c1b35       17         5    Abbestraße   \n",
       "2           2  00008100:000c1b32       20         5    Abbestraße   \n",
       "3           3  00008100:000c1aa3       24       241  Am Rupenhorn   \n",
       "4           4  00008100:000c196a       33       348     Arysallee   \n",
       "\n",
       "           Baumart deutsch       Baumart botanisch Gattung botanisch  \\\n",
       "0     Gemeine Rosskastanie  Aesculus hippocastanum          AESCULUS   \n",
       "1     Gemeine Rosskastanie  Aesculus hippocastanum          AESCULUS   \n",
       "2     Gemeine Rosskastanie  Aesculus hippocastanum          AESCULUS   \n",
       "3     Gemeine Rosskastanie  Aesculus hippocastanum          AESCULUS   \n",
       "4  Amerikanische Rot-Eiche           Quercus rubra           QUERCUS   \n",
       "\n",
       "         Straße Hausnr. Hausnr. Zusatz  Pflanzjahr  Standalter  \\\n",
       "0    Abbestraße      19              0        1936          86   \n",
       "1    Abbestraße      19              0        1926          96   \n",
       "2    Abbestraße   14-20              0        1980          42   \n",
       "3  Am Rupenhorn      3b              0        1975          47   \n",
       "4     Arysallee      11              0        1980          42   \n",
       "\n",
       "   Krone Durchmesser in m  Stamm Umfang in cm  Baumhöhe in m  \\\n",
       "0                    11.0               189.0           17.0   \n",
       "1                    12.0               185.0           25.0   \n",
       "2                     8.0               135.0           12.0   \n",
       "3                     8.0               215.0           17.0   \n",
       "4                    13.0               176.0           17.0   \n",
       "\n",
       "                       Bezirk  \n",
       "0  Charlottenburg-Wilmersdorf  \n",
       "1  Charlottenburg-Wilmersdorf  \n",
       "2  Charlottenburg-Wilmersdorf  \n",
       "3  Charlottenburg-Wilmersdorf  \n",
       "4  Charlottenburg-Wilmersdorf  "
      ]
     },
     "execution_count": 10,
     "metadata": {},
     "output_type": "execute_result"
    }
   ],
   "source": [
    "pd.set_option(\"display.max_columns\", 85)\n",
    "pd.set_option(\"display.max_rows\", 85)\n",
    "\n",
    "df.head()"
   ]
  },
  {
   "cell_type": "markdown",
   "id": "24caa1be",
   "metadata": {},
   "source": [
    "# What do we want to do\n",
    "### 1. ML Regression for tree growth\n",
    "We will need a ML Regression to determine how much a tree (of a specific type will approximately grow within a year.)\n",
    "Important for us it the volume of the wood a tree gains per year.\n",
    "\n",
    "For that we have a look at the tree types and ages and calculate how much volume a tree gains per year.\n",
    "\n",
    "### 2. CO2 Absorption\n",
    "Knowing how much a tree will grow, we can use a formula to calculate the trees approx. CO2 absorption per year\n"
   ]
  },
  {
   "cell_type": "markdown",
   "id": "b55f7cd5",
   "metadata": {},
   "source": [
    "Let's have a look at the Data:"
   ]
  },
  {
   "cell_type": "code",
   "execution_count": 7,
   "id": "14f4bcf5",
   "metadata": {},
   "outputs": [
    {
     "data": {
      "text/plain": [
       "Unnamed: 0                  int64\n",
       "ID                         object\n",
       "Baum Nr.                   object\n",
       "Objektnr.                  object\n",
       "Objektname                 object\n",
       "Baumart deutsch            object\n",
       "Baumart botanisch          object\n",
       "Gattung botanisch          object\n",
       "Straße                     object\n",
       "Hausnr.                    object\n",
       "Hausnr. Zusatz             object\n",
       "Pflanzjahr                  int64\n",
       "Standalter                  int64\n",
       "Krone Durchmesser in m    float64\n",
       "Stamm Umfang in cm        float64\n",
       "Baumhöhe in m             float64\n",
       "Bezirk                     object\n",
       "dtype: object"
      ]
     },
     "execution_count": 7,
     "metadata": {},
     "output_type": "execute_result"
    }
   ],
   "source": [
    "df.dtypes"
   ]
  },
  {
   "cell_type": "code",
   "execution_count": 8,
   "id": "13ea2995",
   "metadata": {},
   "outputs": [
    {
     "name": "stdout",
     "output_type": "stream",
     "text": [
      "Index(['Unnamed: 0', 'ID', 'Baum Nr.', 'Objektnr.', 'Objektname',\n",
      "       'Baumart deutsch', 'Baumart botanisch', 'Gattung botanisch', 'Straße',\n",
      "       'Hausnr.', 'Hausnr. Zusatz', 'Pflanzjahr', 'Standalter',\n",
      "       'Krone Durchmesser in m', 'Stamm Umfang in cm', 'Baumhöhe in m',\n",
      "       'Bezirk'],\n",
      "      dtype='object')\n"
     ]
    }
   ],
   "source": [
    "print(df.columns)\n"
   ]
  },
  {
   "cell_type": "markdown",
   "id": "f10d1336",
   "metadata": {},
   "source": [
    "# Regression\n",
    "### 1. Split into groups by tree type\n",
    "And Check how many different trees there are\n"
   ]
  },
  {
   "cell_type": "code",
   "execution_count": null,
   "id": "d6428758",
   "metadata": {},
   "outputs": [],
   "source": [
    "### How may different tree types are there \n",
    "print(df['Baumart deutsch'].nunique())"
   ]
  },
  {
   "cell_type": "code",
   "execution_count": 50,
   "id": "42e8feda",
   "metadata": {},
   "outputs": [
    {
     "name": "stdout",
     "output_type": "stream",
     "text": [
      "63\n"
     ]
    }
   ],
   "source": [
    "### How may different Botanische Gattungen are there \n",
    "# DISCUSS: Maybe we should use the gattung, so we have more datapoints per grou1\n",
    "print(df['Gattung botanisch'].nunique())"
   ]
  },
  {
   "cell_type": "code",
   "execution_count": 14,
   "id": "e25370aa",
   "metadata": {},
   "outputs": [
    {
     "name": "stdout",
     "output_type": "stream",
     "text": [
      "['Gemeine Rosskastanie' 'Amerikanische Rot-Eiche' 'Winter-Linde'\n",
      " 'Sand-Birke' 'Ahornblättrige Platane' 'Spitz-Ahorn' 'Flatter-Ulme'\n",
      " 'Berg-Ahorn, Weiss-Ahorn' 'Silber-Ahorn' 'Silber-Linde'\n",
      " 'Hängende Silber-Linde' \"Scheinakazie 'Bessoniana'\" 'Robinie'\n",
      " 'Rotblühende Rosskastanie' 'Kaiser-Linde' 'Sommer-Eiche, Stiel-Eiche'\n",
      " 'Oxelbeere, Schwedische Mehlbeere' 'Echte Mehlbeere'\n",
      " 'Großblättrige Robinie' 'Birken-Pappel' 'Schwarz-Pappel'\n",
      " \"Schwarz-Ahorn 'Faassen's Black'\" 'Gemeine Kiefer, Wald-Kiefer'\n",
      " 'Feld-Ahorn' 'Rot-Buche' \"Spitz-Ahorn 'Schwedleri'\" 'Gewöhnliche Esche'\n",
      " 'Krim-Linde' 'Roter Spitzahorn' 'Pflaumenblättriger Weiss-Dorn'\n",
      " 'Holländische Linde' 'Flügelnuss' 'Japanischer Schnurbaum' 'Platane'\n",
      " 'Dreidorniger Lederhülsenbaum' 'Sommer-Linde' 'Echter Rotdorn'\n",
      " 'Baum-Hasel' \"Winter-Linde 'Greenspire'\" 'Amerikanische Linde'\n",
      " 'Blumen-Esche' 'Italienische Pyramiden-Pappel' \"Winter-Linde 'Roelvo'\"\n",
      " 'Schwarznuss' 'Berliner Lorbeer-Pappel' 'Pyramiden-Eiche' 'Hainbuche'\n",
      " 'Fächerblattbaum' \"Japanische Zierkirsche 'Kanzan'\" 'Scharlach-Eiche'\n",
      " 'Feld-Ulme' 'Götterbaum' 'Trompetenbaum' 'Herzblättrige Erle'\n",
      " 'Südlicher Zürgelbaum' 'Goldulme' 'Linde' 'Trauben-Eiche'\n",
      " \"Gleditschie 'Inermis'\" 'Hänge-Weide, Trauer-Weide' 'Sumpf-Eiche' 'Eiche'\n",
      " 'Ungarische Eiche' 'Kugel-Ahorn' 'Birke' \"Spitz-Ahorn 'Reitenbachii'\"\n",
      " 'Ahorn' 'Schmalkroninger Berg-Ahorn' 'Silber-Pappel' 'Eschen-Ahorn'\n",
      " 'Pappel' 'Echte Kugel-Akazie' 'Ulme' 'Eberesche, Mehlbeere'\n",
      " 'Gefülltblühende Rosskastanie' 'Esche' 'Blutbuche' 'Geweihbaum'\n",
      " \"Blaue Stech-Fichte 'Glauca'\" 'Europäische Lärche' 'Tulpenbaum'\n",
      " 'Tulpenmagnolie' 'Kiefer' 'Rot-/Weißdorn' 'Einblatt-Esche' 'Berg-Ulme'\n",
      " 'Urweltmammutbaum' 'Säulenförmiger Spitz-Ahorn'\n",
      " 'Österreichische Schwarzkiefer' 'Schwarz-Erle' 'Echte Ornaes-Birke'\n",
      " \"Resista Ulme 'Regal'\" 'Gemeine Eibe' 'Zitter-Pappel, Espe'\n",
      " 'Zweigriffliger Weissdorn' 'Kanadische Holz-Pappel' 'Grau-Pappel'\n",
      " 'Grau-Tanne, Kolorado-Tanne' 'Eingriffliger Weissdorn' 'Fichte'\n",
      " 'Silber-Weide' 'Apfel-Dorn' 'Kirsche' 'Goldeschen-Ahorn' 'Lebensbaum'\n",
      " 'Kanadische Pappel' 'Rosskastanie' \"Eiche 'Fastigiata Koster'\"\n",
      " 'Pyramiden-Hainbuche' \"Kugel-Winter-Linde 'Green Globe'\"\n",
      " 'Kleinkronige Winter-Linde' \"Silber-Linde 'Szeleste'\"\n",
      " \"Platane 'Pyramidalis'\" 'Kobushi-Magnolie' \"Spitz-Ahorn 'Emerald Queen'\"\n",
      " 'Trauben-Kirsche' 'Apfel' 'Vogelbeere' 'Kegel-Linde'\n",
      " \"Robinie 'Pyramidalis'\" \"Winter-Linde 'Tiergarten'\"\n",
      " 'Prachtapfel, Vielblütiger Apfel' 'Schmalblättrige Esche'\n",
      " \"Silber-Linde 'Brabant'\" \"Esche 'Altena'\" 'Süss-Kirsche,Vogel-Kirsche'\n",
      " \"Blumen-Esche 'Rotterdam'\" \"Säulen-Hainbuche 'Lucas'\"\n",
      " \"Winter-Linde 'Lorberg'\" \"Saulen-Hainbuche 'Frans Fontaine'\"\n",
      " 'Spiegelrinden-Kirsche' \"Silberahorn 'Pyramidale'\"\n",
      " \"Berg-Ahorn 'Atropurpureum'\" \"Winter-Linde 'Erecta'\"\n",
      " \"Feldahorn 'Elsrijk'\" 'Zerr-Eiche' 'Esskastanie, Marone'\n",
      " \"Resista Ulme 'Rebona'\" \"Spitz-Ahorn 'Cleveland'\"\n",
      " 'Weißrindige Himalaja-Birke' 'Kultur-Birne' 'Schmalkronige Zitter-Pappel'\n",
      " \"Spitz-Ahorn 'Olmstedt'\" \"Feld-Ahorn 'Elegant'\" 'Amberbaum'\n",
      " \"Spitz-Ahorn 'Allershausen'\" 'Chinesische Wild-Birne' 'Birne'\n",
      " 'Säulen-Blumenesche' \"Gleditschie 'Skyline'\" 'Gewöhnliche Hopfenbuche'\n",
      " \"Zierapfel 'Liset'\" 'Scharlach-Kastanie' 'Geschlitzter Silber-Ahorn'\n",
      " 'Großlaubige-Mehlbeere' 'Säulen-Eberesche' 'Magnolie'\n",
      " \"Felsenbirne 'Robin Hill'\" \"Stiel-Eiche 'Pendula'\" 'Erle'\n",
      " 'Spätblühende Trauben-Kirsche' 'Lärche' 'Orientalischer Amberbaum'\n",
      " \"Robinie 'Semperflorens'\" 'Zucker-Ahorn' 'Schwedische Mehlbeere'\n",
      " \"Spitz-Ahorn 'Fairview'\" 'Blaue Atlas-Zeder' 'Himalaya-Birke'\n",
      " 'Stech-Fichte' 'Großblättrige Sommerlinde' \"Sandbirke 'Zwitsers Glorie'\"\n",
      " \"Trauben-Kirsche 'Tiefurt'\" 'Douglasfichte' \"Resista Ulme 'Fiorente'\"\n",
      " \"Winter-Linde 'Winter Orange'\" \"Hainbuche 'Pendula'\"\n",
      " \"Robinie 'Casque Rouge'\" \"Zierapfel 'Red Sentinel'\"\n",
      " 'Säulen-Fächerblattbaum' 'Amerikanische Esche'\n",
      " \"Resista Ulme 'New Horizon'\" \"Ulme 'Columella'\"\n",
      " 'Gefuelltblühende Vogelkirsche' 'Holländische Ulme'\n",
      " \"Zierkirsche 'Rancho'\" 'Schmalkronige Stadt-Ulme'\n",
      " \"Breitblättrige Mehlbeere 'Henk Vink'\" 'Japanischer Zürgelbaum'\n",
      " \"Säulen-Hainbuche 'Columnaris'\" 'Rot-Esche' 'Säulenlinde'\n",
      " 'Säulenzierkirsche' 'Blutpflaume' 'Walnuss' 'Hybrid-Pappel'\n",
      " 'Douglasfichte, Douglasie' 'Papier-Birke' 'Purpurahorn' 'Weide'\n",
      " 'Japanische Blütenkirsche' 'Sal-Weide' 'Turkestan-Ulm'\n",
      " \"Spitz-Ahorn 'Deborah'\" 'Scheinzypresse' 'Aprikose'\n",
      " 'Gewöhnlicher Judasbaum' 'Weisser Maulbeerbaum' 'Schwarzkiefer'\n",
      " 'Oregon-Esche' 'Rosarote Robinie' 'Gelblaubige Sandbirke' 'Hänge-Birke'\n",
      " 'Rotstieliger Schlangenhaut-Ahorn' 'Blut-Pflaume' 'Säulen-Weiss-Dorn'\n",
      " \"Trauben-Kirsche 'Albertii'\" \"Robinie 'Sandraudiga'\" \"Birne 'Beech Hill'\"\n",
      " \"Gleditschie 'Shademaster'\" 'Amerikanischer Zürgelbaum' 'Felsenbirne'\n",
      " 'Thüringische Säulen-Eberesche' 'Kanadische Felsenbirne' 'Tataren-Ahorn'\n",
      " 'Persische Eiche' 'Feuer-Ahorn' 'Seiden-Kiefer, Strobe, Weymouths-Kiefer'\n",
      " 'Mahagoni-Kirsche' \"Spitz-Ahorn 'Drummondi'\" 'Rot-Ahorn'\n",
      " \"Spitz-Ahorn 'Royal Red'\" 'Rotfichte' \"Resista-Ulme 'Rebella'\"\n",
      " \"Eberesche 'Xanthocarpa'\" \"Esche 'Westhof´s Glorie'\" 'Scharlach-Dorn'\n",
      " \"Silber-Linde 'Rheinland'\" 'Schmalkronige Esche' \"Sommer-Linde 'Rubra'\"\n",
      " 'Mongolische Linde' 'Hybrid-Eberesche' 'Buche' 'Wollapfel' 'Kulturapfel'\n",
      " 'Kanadische Hemlocktanne' 'Scharlach-Kirsche' 'Korkenzieher-Weide'\n",
      " 'Säulenfeldahorn' 'Kugel-Esche' \"Ahornblättrige Platane 'Tremonia'\"\n",
      " 'Nuss' 'Zier-Apfel' 'Kugelförmige Blumen-Esche' 'Westlicher Zürgelbaum'\n",
      " 'Pflaume' 'Flieder' 'Kätzchen-Weide' 'Balsam-Pappel' 'Balsampappel'\n",
      " 'Schmalblättrige Ölweide' 'Higan-Kirsche' \"Kischpflaume 'Atropurpurea'\"\n",
      " 'Felsen-Kirsche' 'Japanische Lärche' \"Zierapfel 'Hillieri'\"\n",
      " \"Zierapfel 'Professor Sprenger'\" 'Holzapfel' 'Tanne'\n",
      " \"Sand-Birke 'Laciniata'\" 'Korb-Weide' \"Zierapfel 'Royalty'\"\n",
      " 'Schwarzer Maulbeerbaum' 'Hauszwetschge' 'Amur-Kirsche'\n",
      " \"Winter-Linde 'Merkur'\" 'Zierpflaume' 'Großfrüchtiger Weißdorn'\n",
      " \"Japanischer Schnurbaum 'Regent'\" 'Katsurabaum, Kuchenbaum'\n",
      " 'Yoshino-Kirsche' 'Echter Fächer-Ahorn' 'Kupfer-Felsenbirne'\n",
      " 'Zoeschener Ahorn' 'Samthaarige Stinkesche hupehensis'\n",
      " \"Süsskirsche 'Hedelfinger Riesen'\" 'Hybris-Ulme'\n",
      " \"Blut-Ahorn 'Crimson Sentry'\" 'Chinesischer Waldahorn' 'Dreispitz Ahorn'\n",
      " 'Mispel' 'Eisenholzbaum, Parrotie' 'Säulen-Rot-Ahorn' 'Burgen-Ahorn'\n",
      " \"Kanadischer Weißdorn 'Toba'\" \"Ahorn 'Norwegian Sunset'\"\n",
      " 'Roter Feld-Ahorn' \"Rot-Ahorn 'Somerset'\" 'Schneeballblättriger Ahorn'\n",
      " 'Gelbe Pavie' 'Weissesche' \"Orientalische Säulenplatane 'Minarett'\"\n",
      " 'Hänge-Esche' \"Ulme 'Commelin'\" 'Atlaszeder' 'Trauerbirke'\n",
      " \"Spitz-Ahorn 'Almira'\" \"Spitz-Ahorn 'Rubra Pendula'\"\n",
      " 'Himalaja-Kiefer, Tränen-Kiefer' 'Grau-Erle' 'Babylonische Trauer-Weide'\n",
      " 'Hänge Nelken Kirsche' 'Zwerg-Kirsche' 'Resista Ulme' 'Serbische-Fichte'\n",
      " 'Blasenesche' 'Amur-Korkbaum' \"Platane 'Vallis Clausa'\"\n",
      " 'Herbst-Flammen-Ahorn' 'Gold-Gleditschie' \"Zierkirsche 'Spire'\"\n",
      " 'Weisstanne' \"Japanischer Schnurbaum 'Princeton Upright'\"\n",
      " 'Fudschijama-Kirsche' \"Weissesche 'Autumn Purple' (R)\"\n",
      " \"Amberbaum 'Worplesdon'\" 'Gelber Eschen-Ahorn' 'Kugel-Ulme'\n",
      " \"Zierkirsche 'Shirofugen'\" 'Purpur-Birke' 'Silbereschen-Ahorn'\n",
      " 'Trauerweide' 'Graublättrige Kirsche' \"Schwarz-Kiefer 'Typ'\"\n",
      " \"Spitz-Ahorn 'Eurostar'\" 'Griechische Tanne' \"Mirabelle 'Von Nancy'\"\n",
      " 'Moor-Birke' 'Blauglockenbaum' 'Pinie' \"Holländische Ulme 'Vegeta'\"\n",
      " 'Westliche Balsam-Pappel' 'Arnold-Tanne' 'Kegelförmiger Berg-Ahorn'\n",
      " 'Bruch-Weide' 'Weissesche var. microcarpa' \"Gold -Robinie 'Frisia'\"\n",
      " 'Purpur-Fichte' 'Essbare Eberesche' \"Weissesche 'Royal'\"\n",
      " 'Sibirische Bürsten-Tanne' 'Kugel-Steppen-Kirsche' 'Hänge-Ulme'\n",
      " \"Birkenpappel 'Fastigiata'\" 'Blutapfel' 'Hänge-Zitterpappel' 'Sanddorn'\n",
      " 'Säulen-Birke' 'Nordmanntanne' 'Zirbel-Kiefer' \"Winterapfel 'Jonagold'\"\n",
      " \"Bergahorn 'Brilliantissimum'\" \"Süsskirsche 'Burlat'\"\n",
      " \"Schwarz-Erle 'Imperialis'\" \"Zweigriffliger Weissdorn 'Mutabilis'\"\n",
      " \"Spitz-Ahorn 'Palmatifidum'\" \"Rot-Ahorn 'Scanlon'\"\n",
      " 'Orientalischer Weissdorn' 'Hahnensporn-Weissdorn' 'Säulen-Amberbaum'\n",
      " \"Spitz-Ahorn 'Peters Grüne'\" 'Oregon-Ahorn' 'Blaufichte'\n",
      " 'Borstige Robinie' 'Sauerkirsche' 'Kübler-Weide' 'Hänge-Buche'\n",
      " 'Zierapfel' 'Gold-Trompetenbaum' 'Säulen-Kiefer' 'Wiessdorn'\n",
      " 'Japanische Zelkove' 'Gewöhnliche Felsenbirne' \"Spitz-Ahorn 'Nowusch'\"\n",
      " 'Atlas-Zeder Gelb-Gold-Zeder' 'Gemeiner Flieder' \"Robinie 'Mora'\"\n",
      " \"Zierapfel 'Adams'\" 'Kolchischer Ahorn' 'Lorbeer-Weide' 'Gelb-Kiefer'\n",
      " 'Kaukasischer Zürgelbaum' \"Zierapfel 'Aldehamensis'\"\n",
      " 'Eichenblättrige Hainbuche' 'Amerikanische Weiss-Eiche'\n",
      " 'Chinesische Hasel' 'Blut-Trompetenbaum' 'Rote Rosskastanie'\n",
      " 'Silber-Tanne' \"Zwetschge 'Ersinger Frühzwetschge'\"\n",
      " 'Chinesischer Amberbaum' 'Mammutbaum' 'Kolchischer Blut-Ahorn' 'Elsbeere'\n",
      " \"Winter-Linde 'Boehlje'\" \"Eiche 'Concordia'\" 'Haselnuss' 'Blut-Hasel'\n",
      " 'Schmuck-Eberesche' 'Rundblättrige Rotbuche'\n",
      " \"Rote Säulen-Buche 'Dawyck Purple'\" 'Gelbbunter Eschen-Ahorn'\n",
      " 'Indische Rosskastanie' \"Spitz-Ahorn 'Summershade'\" \"Ulme 'Clusius'\"\n",
      " 'Schlitzblättrige Buche' 'Säulenförmiger Schnurbaum' 'Spanische Eiche'\n",
      " 'Einblattakazie' \"Silberweide 'Liempde'\" \"Gemeine Akazie 'Nyirs?Gi'\"\n",
      " 'Japanische Hopfenbuche' 'Mandschurische Linde' 'Pellin-Scheinbuche'\n",
      " 'Tupelobaum' 'Chinesischer Gemüsebaum' 'Weiden-Eiche' 'Zweifarbige Eiche'\n",
      " 'Bur-Eiche' 'Schindeleiche' \"Zierkirsche 'Autumnalis'\" 'Moltke-Linde'\n",
      " 'Kugel-Trompetenbaum' 'Breitkegelförmiger Berg-Ahorn'\n",
      " \"Zierapfel 'Fastigiata'\" 'Mädchen-Kiefer'\n",
      " \"Gewöhnliche Kiefer 'Glauca Compacta'\" 'Thüringer Mehlbeere'\n",
      " \"Trauben-Kirsche 'Watereri'\" \"Japanische Zelkove 'Green Vase'\"\n",
      " \"Süsskirsche 'Büttners Rote Knorpel'\" \"Rot-Ahorn 'October Glory'\"\n",
      " \"Ulme 'Dodoens'\" \"Zierapfel 'Evereste'\" 'Hänge-Blutbuche'\n",
      " \"Zierkirsche 'Accolade'\" 'Gurken-Magnolie' 'Weidenblättrige Birne'\n",
      " 'Glanz-Dorn' 'Späte Vogelbeere' 'Flaumeiche' 'Schwarz-Birke'\n",
      " \"Säulen-Fächerblattbaum 'Blagon' (R)\" 'Kirschapfel'\n",
      " \"Zierapfel 'Charlottae'\" \"Fächerblattbaum 'Autumn Gold'\"\n",
      " \"Strauch-Wald-Kiefer 'Watereri'\" 'Wintergrüne Eiche' 'Turmenische Birne'\n",
      " \"Spitz-Ahorn 'Apollo'\" 'Kahle Felsenbirne'\n",
      " \"Spitz-Ahorn 'Farlake'S Green'\" 'Weissgraue Wildbirne' \"Lärche 'Puli'\"\n",
      " 'Blaue Mädchen-Kiefer' '0' 'Ohio-Rosskastanie' \"Mehlbeere 'Majestica'\"\n",
      " 'Japanische Schwarzkiefer' 'Korea-Tanne' 'Blutbluche'\n",
      " 'Japanische Hainbuche' 'Kastanienblättrige Eiche' \"Bergahorn 'Bruchem'\"\n",
      " \"Amberbaum 'Moraine'\" 'Nikko-Ahorn' 'Kaukasische Wildbirne'\n",
      " 'Stech-Fichte, Sitka-Fichte' 'Streifen-Ahorn' 'Prächtiger Trompetenbaum'\n",
      " \"Zierapfel 'Butterball'\" 'Mazedonische Kiefer' \"Eiche 'Laciniata'\"\n",
      " \"Silber-Weide 'Belders'\" 'Hybrid-Pyramiden-Eiche'\n",
      " \"Spitz-Ahorn 'Golden Globe'\" 'Speierling' \"Spitz-Ahorn 'Superform'\"\n",
      " 'Gelbfilzige Mehlbeere' \"Rot-Ahorn 'Armstrong'\" 'Dreilappiger Apfel'\n",
      " 'Kaukasus-Fichte, Morgenländische Fichte, Orient-Fichte'\n",
      " \"Apfel 'Roter Boskoop'\" \"Säulen-Blumenesche 'Anita'\"\n",
      " \"Kanadischer Judasbaum 'Forest Pansy'\" \"Säulen-Tulpenbaum 'Fastigiatum'\"\n",
      " 'Rostbart-Ahorn' \"Zier-Feld-Ahorn 'Red Shine'\" 'Grün-Erle'\n",
      " \"Felsenbirne 'Ballerina'\" \"Fächerblattbaum 'Autumn Glory'\"\n",
      " 'Samthaarige Stinkesche' \"Zierapfel 'John Downie'\"\n",
      " \"Eberesche 'Rossica Major'\" 'Große Küstentanne'\n",
      " \"Zierapfel 'Golden Hornet'\" 'Winter-Kirsche'\n",
      " \"Davids Streifenahorn 'Serpentine'\" \"Herbstapfel 'Elstar'\"\n",
      " \"Zierapfel 'Eleyi'\" 'Borstige Scheinakazie' 'Maulbeerbaum'\n",
      " \"Ahornblättrige Platane 'Malburg'\"]\n"
     ]
    }
   ],
   "source": [
    "### What are their names\n",
    "print(df['Baumart deutsch'].unique())"
   ]
  },
  {
   "cell_type": "code",
   "execution_count": 17,
   "id": "72786049",
   "metadata": {},
   "outputs": [
    {
     "data": {
      "text/plain": [
       "Winter-Linde                           59048\n",
       "Spitz-Ahorn                            46494\n",
       "Sommer-Eiche, Stiel-Eiche              24106\n",
       "Ahornblättrige Platane                 22692\n",
       "Sommer-Linde                           17682\n",
       "                                       ...  \n",
       "Hybrid-Eberesche                           1\n",
       "Süsskirsche 'Büttners Rote Knorpel'        1\n",
       "Schwarz-Erle 'Imperialis'                  1\n",
       "Higan-Kirsche                              1\n",
       "Flieder                                    1\n",
       "Name: Baumart deutsch, Length: 513, dtype: int64"
      ]
     },
     "execution_count": 17,
     "metadata": {},
     "output_type": "execute_result"
    }
   ],
   "source": [
    "df['Baumart deutsch'].value_counts()"
   ]
  },
  {
   "cell_type": "code",
   "execution_count": 58,
   "id": "b8ee95d7",
   "metadata": {},
   "outputs": [
    {
     "data": {
      "text/plain": [
       "<AxesSubplot:xlabel='Standalter'>"
      ]
     },
     "execution_count": 58,
     "metadata": {},
     "output_type": "execute_result"
    },
    {
     "data": {
      "image/png": "[encoded data removed]",
      "text/plain": [
       "<Figure size 432x288 with 1 Axes>"
      ]
     },
     "metadata": {
      "needs_background": "light"
     },
     "output_type": "display_data"
    }
   ],
   "source": [
    "### Create a plot to visualize the Data\n",
    "df.plot(x='Standalter', y='Baumhöhe in m', style='o')"
   ]
  },
  {
   "cell_type": "code",
   "execution_count": 59,
   "id": "434c8a4b",
   "metadata": {},
   "outputs": [],
   "source": [
    "### I want to get rid of the outlyer\n",
    "df = df[df.Standalter < 1000]"
   ]
  },
  {
   "cell_type": "code",
   "execution_count": 60,
   "id": "0ee313cf",
   "metadata": {},
   "outputs": [
    {
     "data": {
      "text/plain": [
       "<AxesSubplot:xlabel='Standalter'>"
      ]
     },
     "execution_count": 60,
     "metadata": {},
     "output_type": "execute_result"
    },
    {
     "data": {
      "image/png": "[encoded data removed]",
      "text/plain": [
       "<Figure size 432x288 with 1 Axes>"
      ]
     },
     "metadata": {
      "needs_background": "light"
     },
     "output_type": "display_data"
    }
   ],
   "source": [
    "df.plot(x='Standalter', y='Baumhöhe in m', style='o')"
   ]
  },
  {
   "cell_type": "markdown",
   "id": "8ee6aa62",
   "metadata": {},
   "source": [
    "## We need to do the same for the **Girth** of the tree, because it's Volume is important :)\n"
   ]
  },
  {
   "cell_type": "code",
   "execution_count": 62,
   "id": "4e766bf1",
   "metadata": {},
   "outputs": [
    {
     "data": {
      "text/plain": [
       "<AxesSubplot:xlabel='Standalter'>"
      ]
     },
     "execution_count": 62,
     "metadata": {},
     "output_type": "execute_result"
    },
    {
     "data": {
      "image/png": "[encoded data removed]",
      "text/plain": [
       "<Figure size 432x288 with 1 Axes>"
      ]
     },
     "metadata": {
      "needs_background": "light"
     },
     "output_type": "display_data"
    }
   ],
   "source": [
    "df.plot(x='Standalter', y='Stamm Umfang in cm', style='o')"
   ]
  },
  {
   "cell_type": "markdown",
   "id": "b89227bf",
   "metadata": {},
   "source": [
    "I think it looks good"
   ]
  },
  {
   "cell_type": "markdown",
   "id": "e5e4ab2b",
   "metadata": {},
   "source": [
    "# Add a new column with the value Volume\n",
    "In this calculation the tree is considered a cylinder.\n",
    "For the new column we use the formula:\n",
    "### Volume = π x radius\\*2 x height \n",
    "But since we don't have the raduis we must use the girth\n",
    "### Volume = π x (grith / 2π)\\*2 x heigth\n",
    "I don't want to import any additonal stiff so I just use the number 3.141592653589793 instead of π\n",
    "We need to divide the girth by 100 so that it is also in meters"
   ]
  },
  {
   "cell_type": "code",
   "execution_count": 64,
   "id": "3a8837a2",
   "metadata": {},
   "outputs": [
    {
     "name": "stderr",
     "output_type": "stream",
     "text": [
      "/var/folders/fr/0j1782qn30lgn572601l_yg00000gq/T/ipykernel_3300/2952397417.py:3: SettingWithCopyWarning: \n",
      "A value is trying to be set on a copy of a slice from a DataFrame.\n",
      "Try using .loc[row_indexer,col_indexer] = value instead\n",
      "\n",
      "See the caveats in the documentation: https://pandas.pydata.org/pandas-docs/stable/user_guide/indexing.html#returning-a-view-versus-a-copy\n",
      "  df['tree volume in m2'] = 3.141592653589793*(((df[\"Stamm Umfang in cm\"]/100)/2*3.141592653589793)**2) * df[\"Baumhöhe in m\"]\n"
     ]
    },
    {
     "data": {
      "text/html": [
       "<div>\n",
       "<style scoped>\n",
       "    .dataframe tbody tr th:only-of-type {\n",
       "        vertical-align: middle;\n",
       "    }\n",
       "\n",
       "    .dataframe tbody tr th {\n",
       "        vertical-align: top;\n",
       "    }\n",
       "\n",
       "    .dataframe thead th {\n",
       "        text-align: right;\n",
       "    }\n",
       "</style>\n",
       "<table border=\"1\" class=\"dataframe\">\n",
       "  <thead>\n",
       "    <tr style=\"text-align: right;\">\n",
       "      <th></th>\n",
       "      <th>Unnamed: 0</th>\n",
       "      <th>ID</th>\n",
       "      <th>Baum Nr.</th>\n",
       "      <th>Objektnr.</th>\n",
       "      <th>Objektname</th>\n",
       "      <th>Baumart deutsch</th>\n",
       "      <th>Baumart botanisch</th>\n",
       "      <th>Gattung botanisch</th>\n",
       "      <th>Straße</th>\n",
       "      <th>Hausnr.</th>\n",
       "      <th>Hausnr. Zusatz</th>\n",
       "      <th>Pflanzjahr</th>\n",
       "      <th>Standalter</th>\n",
       "      <th>Krone Durchmesser in m</th>\n",
       "      <th>Stamm Umfang in cm</th>\n",
       "      <th>Baumhöhe in m</th>\n",
       "      <th>Bezirk</th>\n",
       "      <th>tree volume in m2</th>\n",
       "    </tr>\n",
       "  </thead>\n",
       "  <tbody>\n",
       "    <tr>\n",
       "      <th>0</th>\n",
       "      <td>0</td>\n",
       "      <td>00008100:000c1b36</td>\n",
       "      <td>16</td>\n",
       "      <td>5</td>\n",
       "      <td>Abbestraße</td>\n",
       "      <td>Gemeine Rosskastanie</td>\n",
       "      <td>Aesculus hippocastanum</td>\n",
       "      <td>AESCULUS</td>\n",
       "      <td>Abbestraße</td>\n",
       "      <td>19</td>\n",
       "      <td>0</td>\n",
       "      <td>1936</td>\n",
       "      <td>86</td>\n",
       "      <td>11.0</td>\n",
       "      <td>189.0</td>\n",
       "      <td>17.0</td>\n",
       "      <td>Charlottenburg-Wilmersdorf</td>\n",
       "      <td>470.719464</td>\n",
       "    </tr>\n",
       "    <tr>\n",
       "      <th>1</th>\n",
       "      <td>1</td>\n",
       "      <td>00008100:000c1b35</td>\n",
       "      <td>17</td>\n",
       "      <td>5</td>\n",
       "      <td>Abbestraße</td>\n",
       "      <td>Gemeine Rosskastanie</td>\n",
       "      <td>Aesculus hippocastanum</td>\n",
       "      <td>AESCULUS</td>\n",
       "      <td>Abbestraße</td>\n",
       "      <td>19</td>\n",
       "      <td>0</td>\n",
       "      <td>1926</td>\n",
       "      <td>96</td>\n",
       "      <td>12.0</td>\n",
       "      <td>185.0</td>\n",
       "      <td>25.0</td>\n",
       "      <td>Charlottenburg-Wilmersdorf</td>\n",
       "      <td>663.243637</td>\n",
       "    </tr>\n",
       "    <tr>\n",
       "      <th>2</th>\n",
       "      <td>2</td>\n",
       "      <td>00008100:000c1b32</td>\n",
       "      <td>20</td>\n",
       "      <td>5</td>\n",
       "      <td>Abbestraße</td>\n",
       "      <td>Gemeine Rosskastanie</td>\n",
       "      <td>Aesculus hippocastanum</td>\n",
       "      <td>AESCULUS</td>\n",
       "      <td>Abbestraße</td>\n",
       "      <td>14-20</td>\n",
       "      <td>0</td>\n",
       "      <td>1980</td>\n",
       "      <td>42</td>\n",
       "      <td>8.0</td>\n",
       "      <td>135.0</td>\n",
       "      <td>12.0</td>\n",
       "      <td>Charlottenburg-Wilmersdorf</td>\n",
       "      <td>169.526818</td>\n",
       "    </tr>\n",
       "    <tr>\n",
       "      <th>3</th>\n",
       "      <td>3</td>\n",
       "      <td>00008100:000c1aa3</td>\n",
       "      <td>24</td>\n",
       "      <td>241</td>\n",
       "      <td>Am Rupenhorn</td>\n",
       "      <td>Gemeine Rosskastanie</td>\n",
       "      <td>Aesculus hippocastanum</td>\n",
       "      <td>AESCULUS</td>\n",
       "      <td>Am Rupenhorn</td>\n",
       "      <td>3b</td>\n",
       "      <td>0</td>\n",
       "      <td>1975</td>\n",
       "      <td>47</td>\n",
       "      <td>8.0</td>\n",
       "      <td>215.0</td>\n",
       "      <td>17.0</td>\n",
       "      <td>Charlottenburg-Wilmersdorf</td>\n",
       "      <td>609.137684</td>\n",
       "    </tr>\n",
       "    <tr>\n",
       "      <th>4</th>\n",
       "      <td>4</td>\n",
       "      <td>00008100:000c196a</td>\n",
       "      <td>33</td>\n",
       "      <td>348</td>\n",
       "      <td>Arysallee</td>\n",
       "      <td>Amerikanische Rot-Eiche</td>\n",
       "      <td>Quercus rubra</td>\n",
       "      <td>QUERCUS</td>\n",
       "      <td>Arysallee</td>\n",
       "      <td>11</td>\n",
       "      <td>0</td>\n",
       "      <td>1980</td>\n",
       "      <td>42</td>\n",
       "      <td>13.0</td>\n",
       "      <td>176.0</td>\n",
       "      <td>17.0</td>\n",
       "      <td>Charlottenburg-Wilmersdorf</td>\n",
       "      <td>408.191431</td>\n",
       "    </tr>\n",
       "  </tbody>\n",
       "</table>\n",
       "</div>"
      ],
      "text/plain": [
       "   Unnamed: 0                 ID Baum Nr. Objektnr.    Objektname  \\\n",
       "0           0  00008100:000c1b36       16         5    Abbestraße   \n",
       "1           1  00008100:000c1b35       17         5    Abbestraße   \n",
       "2           2  00008100:000c1b32       20         5    Abbestraße   \n",
       "3           3  00008100:000c1aa3       24       241  Am Rupenhorn   \n",
       "4           4  00008100:000c196a       33       348     Arysallee   \n",
       "\n",
       "           Baumart deutsch       Baumart botanisch Gattung botanisch  \\\n",
       "0     Gemeine Rosskastanie  Aesculus hippocastanum          AESCULUS   \n",
       "1     Gemeine Rosskastanie  Aesculus hippocastanum          AESCULUS   \n",
       "2     Gemeine Rosskastanie  Aesculus hippocastanum          AESCULUS   \n",
       "3     Gemeine Rosskastanie  Aesculus hippocastanum          AESCULUS   \n",
       "4  Amerikanische Rot-Eiche           Quercus rubra           QUERCUS   \n",
       "\n",
       "         Straße Hausnr. Hausnr. Zusatz  Pflanzjahr  Standalter  \\\n",
       "0    Abbestraße      19              0        1936          86   \n",
       "1    Abbestraße      19              0        1926          96   \n",
       "2    Abbestraße   14-20              0        1980          42   \n",
       "3  Am Rupenhorn      3b              0        1975          47   \n",
       "4     Arysallee      11              0        1980          42   \n",
       "\n",
       "   Krone Durchmesser in m  Stamm Umfang in cm  Baumhöhe in m  \\\n",
       "0                    11.0               189.0           17.0   \n",
       "1                    12.0               185.0           25.0   \n",
       "2                     8.0               135.0           12.0   \n",
       "3                     8.0               215.0           17.0   \n",
       "4                    13.0               176.0           17.0   \n",
       "\n",
       "                       Bezirk  tree volume in m2  \n",
       "0  Charlottenburg-Wilmersdorf         470.719464  \n",
       "1  Charlottenburg-Wilmersdorf         663.243637  \n",
       "2  Charlottenburg-Wilmersdorf         169.526818  \n",
       "3  Charlottenburg-Wilmersdorf         609.137684  \n",
       "4  Charlottenburg-Wilmersdorf         408.191431  "
      ]
     },
     "execution_count": 64,
     "metadata": {},
     "output_type": "execute_result"
    }
   ],
   "source": [
    "# df_Linde['tree volume'] = 3.141592653589793*((\"Stamm Umfang in cm\"/2*3.141592653589793)**2) * \"Baumhöhe in m\" \n",
    " # df_Linde.dtypes\n",
    "df['tree volume in m2'] = 3.141592653589793*(((df[\"Stamm Umfang in cm\"]/100)/2*3.141592653589793)**2) * df[\"Baumhöhe in m\"] \n",
    " \n",
    "df.head()"
   ]
  },
  {
   "cell_type": "markdown",
   "id": "637ad1c3",
   "metadata": {},
   "source": [
    "## Visualization of the tree volume and age\n"
   ]
  },
  {
   "cell_type": "code",
   "execution_count": 65,
   "id": "5dcfe785",
   "metadata": {},
   "outputs": [
    {
     "data": {
      "text/plain": [
       "<AxesSubplot:xlabel='Standalter'>"
      ]
     },
     "execution_count": 65,
     "metadata": {},
     "output_type": "execute_result"
    },
    {
     "data": {
      "image/png": "[encoded data removed]",
      "text/plain": [
       "<Figure size 432x288 with 1 Axes>"
      ]
     },
     "metadata": {
      "needs_background": "light"
     },
     "output_type": "display_data"
    }
   ],
   "source": [
    "df.plot(x='Standalter', y='tree volume in m2', style='o')\n",
    "## DISCUSS should we exlude the outlier with more than 7000m2 volume?"
   ]
  },
  {
   "cell_type": "code",
   "execution_count": 66,
   "id": "7bc3a8a2",
   "metadata": {},
   "outputs": [
    {
     "name": "stdout",
     "output_type": "stream",
     "text": [
      "       Unnamed: 0                 ID Baum Nr. Objektnr.   Objektname  \\\n",
      "66255       66255  00008100:001f5ccd       24    11SB02  Arnimstraße   \n",
      "\n",
      "      Baumart deutsch Baumart botanisch Gattung botanisch       Straße  \\\n",
      "66255  Schwarz-Pappel     Populus nigra           POPULUS  Arnimstraße   \n",
      "\n",
      "      Hausnr. Hausnr. Zusatz  Pflanzjahr  Standalter  Krone Durchmesser in m  \\\n",
      "66255       0              0        1940          82                    23.0   \n",
      "\n",
      "       Stamm Umfang in cm  Baumhöhe in m       Bezirk  tree volume in m2  \n",
      "66255               780.0           35.0  Lichtenberg       16506.191391  \n"
     ]
    }
   ],
   "source": [
    "### If ypu want to drop it, run this:\n",
    "max_volume = df['tree volume in m2'].idxmax()\n",
    "outlyer_volume = df.loc[[max_volume]]\n",
    "print(outlyer_volume)\n",
    "#df_Linde.drop([227894], axis=0, inplace=True)"
   ]
  },
  {
   "cell_type": "markdown",
   "id": "b2df577e",
   "metadata": {},
   "source": [
    "## Decision on the method\n",
    "\n",
    "**Decision:** To me it looks like we can use a **linear regression**\n",
    "\n",
    "# But\n",
    "\n",
    "HELP! Problem: Not the estimated volume in the next year is relevant but the difference between the volume from one year to the next\n",
    "\n",
    "I will continue anyways and hope that I will have an idea later on.\n",
    "\n",
    "# Let's try k-Nearest Neighbors for Regression first\n",
    "\n",
    "But maybe in another notebook, so I will write a new csv file with our additional column"
   ]
  },
  {
   "cell_type": "code",
   "execution_count": 68,
   "id": "47d610ff",
   "metadata": {},
   "outputs": [
    {
     "data": {
      "text/html": [
       "<div>\n",
       "<style scoped>\n",
       "    .dataframe tbody tr th:only-of-type {\n",
       "        vertical-align: middle;\n",
       "    }\n",
       "\n",
       "    .dataframe tbody tr th {\n",
       "        vertical-align: top;\n",
       "    }\n",
       "\n",
       "    .dataframe thead th {\n",
       "        text-align: right;\n",
       "    }\n",
       "</style>\n",
       "<table border=\"1\" class=\"dataframe\">\n",
       "  <thead>\n",
       "    <tr style=\"text-align: right;\">\n",
       "      <th></th>\n",
       "      <th>Unnamed: 0</th>\n",
       "      <th>ID</th>\n",
       "      <th>Baum Nr.</th>\n",
       "      <th>Objektnr.</th>\n",
       "      <th>Objektname</th>\n",
       "      <th>Baumart deutsch</th>\n",
       "      <th>Baumart botanisch</th>\n",
       "      <th>Gattung botanisch</th>\n",
       "      <th>Straße</th>\n",
       "      <th>Hausnr.</th>\n",
       "      <th>Hausnr. Zusatz</th>\n",
       "      <th>Pflanzjahr</th>\n",
       "      <th>Standalter</th>\n",
       "      <th>Krone Durchmesser in m</th>\n",
       "      <th>Stamm Umfang in cm</th>\n",
       "      <th>Baumhöhe in m</th>\n",
       "      <th>Bezirk</th>\n",
       "      <th>tree volume in m2</th>\n",
       "    </tr>\n",
       "  </thead>\n",
       "  <tbody>\n",
       "    <tr>\n",
       "      <th>0</th>\n",
       "      <td>0</td>\n",
       "      <td>00008100:000c1b36</td>\n",
       "      <td>16</td>\n",
       "      <td>5</td>\n",
       "      <td>Abbestraße</td>\n",
       "      <td>Gemeine Rosskastanie</td>\n",
       "      <td>Aesculus hippocastanum</td>\n",
       "      <td>AESCULUS</td>\n",
       "      <td>Abbestraße</td>\n",
       "      <td>19</td>\n",
       "      <td>0</td>\n",
       "      <td>1936</td>\n",
       "      <td>86</td>\n",
       "      <td>11.0</td>\n",
       "      <td>189.0</td>\n",
       "      <td>17.0</td>\n",
       "      <td>Charlottenburg-Wilmersdorf</td>\n",
       "      <td>470.719464</td>\n",
       "    </tr>\n",
       "    <tr>\n",
       "      <th>1</th>\n",
       "      <td>1</td>\n",
       "      <td>00008100:000c1b35</td>\n",
       "      <td>17</td>\n",
       "      <td>5</td>\n",
       "      <td>Abbestraße</td>\n",
       "      <td>Gemeine Rosskastanie</td>\n",
       "      <td>Aesculus hippocastanum</td>\n",
       "      <td>AESCULUS</td>\n",
       "      <td>Abbestraße</td>\n",
       "      <td>19</td>\n",
       "      <td>0</td>\n",
       "      <td>1926</td>\n",
       "      <td>96</td>\n",
       "      <td>12.0</td>\n",
       "      <td>185.0</td>\n",
       "      <td>25.0</td>\n",
       "      <td>Charlottenburg-Wilmersdorf</td>\n",
       "      <td>663.243637</td>\n",
       "    </tr>\n",
       "    <tr>\n",
       "      <th>2</th>\n",
       "      <td>2</td>\n",
       "      <td>00008100:000c1b32</td>\n",
       "      <td>20</td>\n",
       "      <td>5</td>\n",
       "      <td>Abbestraße</td>\n",
       "      <td>Gemeine Rosskastanie</td>\n",
       "      <td>Aesculus hippocastanum</td>\n",
       "      <td>AESCULUS</td>\n",
       "      <td>Abbestraße</td>\n",
       "      <td>14-20</td>\n",
       "      <td>0</td>\n",
       "      <td>1980</td>\n",
       "      <td>42</td>\n",
       "      <td>8.0</td>\n",
       "      <td>135.0</td>\n",
       "      <td>12.0</td>\n",
       "      <td>Charlottenburg-Wilmersdorf</td>\n",
       "      <td>169.526818</td>\n",
       "    </tr>\n",
       "    <tr>\n",
       "      <th>3</th>\n",
       "      <td>3</td>\n",
       "      <td>00008100:000c1aa3</td>\n",
       "      <td>24</td>\n",
       "      <td>241</td>\n",
       "      <td>Am Rupenhorn</td>\n",
       "      <td>Gemeine Rosskastanie</td>\n",
       "      <td>Aesculus hippocastanum</td>\n",
       "      <td>AESCULUS</td>\n",
       "      <td>Am Rupenhorn</td>\n",
       "      <td>3b</td>\n",
       "      <td>0</td>\n",
       "      <td>1975</td>\n",
       "      <td>47</td>\n",
       "      <td>8.0</td>\n",
       "      <td>215.0</td>\n",
       "      <td>17.0</td>\n",
       "      <td>Charlottenburg-Wilmersdorf</td>\n",
       "      <td>609.137684</td>\n",
       "    </tr>\n",
       "    <tr>\n",
       "      <th>4</th>\n",
       "      <td>4</td>\n",
       "      <td>00008100:000c196a</td>\n",
       "      <td>33</td>\n",
       "      <td>348</td>\n",
       "      <td>Arysallee</td>\n",
       "      <td>Amerikanische Rot-Eiche</td>\n",
       "      <td>Quercus rubra</td>\n",
       "      <td>QUERCUS</td>\n",
       "      <td>Arysallee</td>\n",
       "      <td>11</td>\n",
       "      <td>0</td>\n",
       "      <td>1980</td>\n",
       "      <td>42</td>\n",
       "      <td>13.0</td>\n",
       "      <td>176.0</td>\n",
       "      <td>17.0</td>\n",
       "      <td>Charlottenburg-Wilmersdorf</td>\n",
       "      <td>408.191431</td>\n",
       "    </tr>\n",
       "  </tbody>\n",
       "</table>\n",
       "</div>"
      ],
      "text/plain": [
       "   Unnamed: 0                 ID Baum Nr. Objektnr.    Objektname  \\\n",
       "0           0  00008100:000c1b36       16         5    Abbestraße   \n",
       "1           1  00008100:000c1b35       17         5    Abbestraße   \n",
       "2           2  00008100:000c1b32       20         5    Abbestraße   \n",
       "3           3  00008100:000c1aa3       24       241  Am Rupenhorn   \n",
       "4           4  00008100:000c196a       33       348     Arysallee   \n",
       "\n",
       "           Baumart deutsch       Baumart botanisch Gattung botanisch  \\\n",
       "0     Gemeine Rosskastanie  Aesculus hippocastanum          AESCULUS   \n",
       "1     Gemeine Rosskastanie  Aesculus hippocastanum          AESCULUS   \n",
       "2     Gemeine Rosskastanie  Aesculus hippocastanum          AESCULUS   \n",
       "3     Gemeine Rosskastanie  Aesculus hippocastanum          AESCULUS   \n",
       "4  Amerikanische Rot-Eiche           Quercus rubra           QUERCUS   \n",
       "\n",
       "         Straße Hausnr. Hausnr. Zusatz  Pflanzjahr  Standalter  \\\n",
       "0    Abbestraße      19              0        1936          86   \n",
       "1    Abbestraße      19              0        1926          96   \n",
       "2    Abbestraße   14-20              0        1980          42   \n",
       "3  Am Rupenhorn      3b              0        1975          47   \n",
       "4     Arysallee      11              0        1980          42   \n",
       "\n",
       "   Krone Durchmesser in m  Stamm Umfang in cm  Baumhöhe in m  \\\n",
       "0                    11.0               189.0           17.0   \n",
       "1                    12.0               185.0           25.0   \n",
       "2                     8.0               135.0           12.0   \n",
       "3                     8.0               215.0           17.0   \n",
       "4                    13.0               176.0           17.0   \n",
       "\n",
       "                       Bezirk  tree volume in m2  \n",
       "0  Charlottenburg-Wilmersdorf         470.719464  \n",
       "1  Charlottenburg-Wilmersdorf         663.243637  \n",
       "2  Charlottenburg-Wilmersdorf         169.526818  \n",
       "3  Charlottenburg-Wilmersdorf         609.137684  \n",
       "4  Charlottenburg-Wilmersdorf         408.191431  "
      ]
     },
     "execution_count": 68,
     "metadata": {},
     "output_type": "execute_result"
    }
   ],
   "source": [
    "df.head()"
   ]
  },
  {
   "cell_type": "code",
   "execution_count": 69,
   "id": "b9ec1e24",
   "metadata": {},
   "outputs": [],
   "source": [
    "df.to_csv('additional_column_volume.csv')"
   ]
  },
  {
   "cell_type": "code",
   "execution_count": null,
   "id": "42b2993b",
   "metadata": {},
   "outputs": [],
   "source": []
  }
 ],
 "metadata": {
  "kernelspec": {
   "display_name": "Python 3 (ipykernel)",
   "language": "python",
   "name": "python3"
  },
  "language_info": {
   "codemirror_mode": {
    "name": "ipython",
    "version": 3
   },
   "file_extension": ".py",
   "mimetype": "text/x-python",
   "name": "python",
   "nbconvert_exporter": "python",
   "pygments_lexer": "ipython3",
   "version": "3.9.7"
  }
 },
 "nbformat": 4,
 "nbformat_minor": 5
}
