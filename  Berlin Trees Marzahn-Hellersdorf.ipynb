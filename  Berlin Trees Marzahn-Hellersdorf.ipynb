{
 "cells": [
  {
   "cell_type": "markdown",
   "id": "343e23b0",
   "metadata": {},
   "source": [
    "# Berlin Trees Visualizations"
   ]
  },
  {
   "cell_type": "markdown",
   "id": "24caa1be",
   "metadata": {},
   "source": [
    "## Notebook Setup\n",
    "1. Importing relevant libraries\n",
    "2. Importing the Dataset\n",
    "3. inspect data\n",
    "4. Checking Data types"
   ]
  },
  {
   "cell_type": "code",
   "execution_count": 2,
   "id": "90054321",
   "metadata": {},
   "outputs": [],
   "source": [
    "# This is the convention used to import Pandas.\n",
    "import pandas as pd\n",
    "import numpy as np\n",
    "import matplotlib.pyplot as plt\n",
    "import scipy as sp\n"
   ]
  },
  {
   "cell_type": "code",
   "execution_count": 3,
   "id": "e115b0dc",
   "metadata": {},
   "outputs": [],
   "source": [
    "#pip install plotly==5.8.2\n"
   ]
  },
  {
   "cell_type": "code",
   "execution_count": 4,
   "id": "0144dc20",
   "metadata": {},
   "outputs": [],
   "source": [
    "#import plotly.express as px"
   ]
  },
  {
   "cell_type": "code",
   "execution_count": 5,
   "id": "b879c462",
   "metadata": {},
   "outputs": [
    {
     "name": "stderr",
     "output_type": "stream",
     "text": [
      "/Users/anna/opt/anaconda3/lib/python3.9/site-packages/IPython/core/interactiveshell.py:3444: DtypeWarning: Columns (3) have mixed types.Specify dtype option on import or set low_memory=False.\n",
      "  exec(code_obj, self.user_global_ns, self.user_ns)\n"
     ]
    }
   ],
   "source": [
    "df = pd.read_csv('berlin_trees_data.csv')"
   ]
  },
  {
   "cell_type": "code",
   "execution_count": 6,
   "id": "c42988ee",
   "metadata": {},
   "outputs": [
    {
     "data": {
      "text/html": [
       "<div>\n",
       "<style scoped>\n",
       "    .dataframe tbody tr th:only-of-type {\n",
       "        vertical-align: middle;\n",
       "    }\n",
       "\n",
       "    .dataframe tbody tr th {\n",
       "        vertical-align: top;\n",
       "    }\n",
       "\n",
       "    .dataframe thead th {\n",
       "        text-align: right;\n",
       "    }\n",
       "</style>\n",
       "<table border=\"1\" class=\"dataframe\">\n",
       "  <thead>\n",
       "    <tr style=\"text-align: right;\">\n",
       "      <th></th>\n",
       "      <th>Unnamed: 0</th>\n",
       "      <th>ID</th>\n",
       "      <th>Baum Nr.</th>\n",
       "      <th>Objektnr.</th>\n",
       "      <th>Objektname</th>\n",
       "      <th>Baumart deutsch</th>\n",
       "      <th>Baumart botanisch</th>\n",
       "      <th>Gattung botanisch</th>\n",
       "      <th>Straße</th>\n",
       "      <th>Hausnr.</th>\n",
       "      <th>Hausnr. Zusatz</th>\n",
       "      <th>Pflanzjahr</th>\n",
       "      <th>Standalter</th>\n",
       "      <th>Krone Durchmesser in m</th>\n",
       "      <th>Stamm Umfang in cm</th>\n",
       "      <th>Baumhöhe in m</th>\n",
       "      <th>Bezirk</th>\n",
       "    </tr>\n",
       "  </thead>\n",
       "  <tbody>\n",
       "    <tr>\n",
       "      <th>0</th>\n",
       "      <td>0</td>\n",
       "      <td>00008100:000c1b36</td>\n",
       "      <td>16</td>\n",
       "      <td>5</td>\n",
       "      <td>Abbestraße</td>\n",
       "      <td>Gemeine Rosskastanie</td>\n",
       "      <td>Aesculus hippocastanum</td>\n",
       "      <td>AESCULUS</td>\n",
       "      <td>Abbestraße</td>\n",
       "      <td>19</td>\n",
       "      <td>0</td>\n",
       "      <td>1936</td>\n",
       "      <td>86</td>\n",
       "      <td>11.0</td>\n",
       "      <td>189.0</td>\n",
       "      <td>17.0</td>\n",
       "      <td>Charlottenburg-Wilmersdorf</td>\n",
       "    </tr>\n",
       "    <tr>\n",
       "      <th>1</th>\n",
       "      <td>1</td>\n",
       "      <td>00008100:000c1b35</td>\n",
       "      <td>17</td>\n",
       "      <td>5</td>\n",
       "      <td>Abbestraße</td>\n",
       "      <td>Gemeine Rosskastanie</td>\n",
       "      <td>Aesculus hippocastanum</td>\n",
       "      <td>AESCULUS</td>\n",
       "      <td>Abbestraße</td>\n",
       "      <td>19</td>\n",
       "      <td>0</td>\n",
       "      <td>1926</td>\n",
       "      <td>96</td>\n",
       "      <td>12.0</td>\n",
       "      <td>185.0</td>\n",
       "      <td>25.0</td>\n",
       "      <td>Charlottenburg-Wilmersdorf</td>\n",
       "    </tr>\n",
       "    <tr>\n",
       "      <th>2</th>\n",
       "      <td>2</td>\n",
       "      <td>00008100:000c1b32</td>\n",
       "      <td>20</td>\n",
       "      <td>5</td>\n",
       "      <td>Abbestraße</td>\n",
       "      <td>Gemeine Rosskastanie</td>\n",
       "      <td>Aesculus hippocastanum</td>\n",
       "      <td>AESCULUS</td>\n",
       "      <td>Abbestraße</td>\n",
       "      <td>14-20</td>\n",
       "      <td>0</td>\n",
       "      <td>1980</td>\n",
       "      <td>42</td>\n",
       "      <td>8.0</td>\n",
       "      <td>135.0</td>\n",
       "      <td>12.0</td>\n",
       "      <td>Charlottenburg-Wilmersdorf</td>\n",
       "    </tr>\n",
       "    <tr>\n",
       "      <th>3</th>\n",
       "      <td>3</td>\n",
       "      <td>00008100:000c1aa3</td>\n",
       "      <td>24</td>\n",
       "      <td>241</td>\n",
       "      <td>Am Rupenhorn</td>\n",
       "      <td>Gemeine Rosskastanie</td>\n",
       "      <td>Aesculus hippocastanum</td>\n",
       "      <td>AESCULUS</td>\n",
       "      <td>Am Rupenhorn</td>\n",
       "      <td>3b</td>\n",
       "      <td>0</td>\n",
       "      <td>1975</td>\n",
       "      <td>47</td>\n",
       "      <td>8.0</td>\n",
       "      <td>215.0</td>\n",
       "      <td>17.0</td>\n",
       "      <td>Charlottenburg-Wilmersdorf</td>\n",
       "    </tr>\n",
       "    <tr>\n",
       "      <th>4</th>\n",
       "      <td>4</td>\n",
       "      <td>00008100:000c196a</td>\n",
       "      <td>33</td>\n",
       "      <td>348</td>\n",
       "      <td>Arysallee</td>\n",
       "      <td>Amerikanische Rot-Eiche</td>\n",
       "      <td>Quercus rubra</td>\n",
       "      <td>QUERCUS</td>\n",
       "      <td>Arysallee</td>\n",
       "      <td>11</td>\n",
       "      <td>0</td>\n",
       "      <td>1980</td>\n",
       "      <td>42</td>\n",
       "      <td>13.0</td>\n",
       "      <td>176.0</td>\n",
       "      <td>17.0</td>\n",
       "      <td>Charlottenburg-Wilmersdorf</td>\n",
       "    </tr>\n",
       "  </tbody>\n",
       "</table>\n",
       "</div>"
      ],
      "text/plain": [
       "   Unnamed: 0                 ID Baum Nr. Objektnr.    Objektname  \\\n",
       "0           0  00008100:000c1b36       16         5    Abbestraße   \n",
       "1           1  00008100:000c1b35       17         5    Abbestraße   \n",
       "2           2  00008100:000c1b32       20         5    Abbestraße   \n",
       "3           3  00008100:000c1aa3       24       241  Am Rupenhorn   \n",
       "4           4  00008100:000c196a       33       348     Arysallee   \n",
       "\n",
       "           Baumart deutsch       Baumart botanisch Gattung botanisch  \\\n",
       "0     Gemeine Rosskastanie  Aesculus hippocastanum          AESCULUS   \n",
       "1     Gemeine Rosskastanie  Aesculus hippocastanum          AESCULUS   \n",
       "2     Gemeine Rosskastanie  Aesculus hippocastanum          AESCULUS   \n",
       "3     Gemeine Rosskastanie  Aesculus hippocastanum          AESCULUS   \n",
       "4  Amerikanische Rot-Eiche           Quercus rubra           QUERCUS   \n",
       "\n",
       "         Straße Hausnr. Hausnr. Zusatz  Pflanzjahr  Standalter  \\\n",
       "0    Abbestraße      19              0        1936          86   \n",
       "1    Abbestraße      19              0        1926          96   \n",
       "2    Abbestraße   14-20              0        1980          42   \n",
       "3  Am Rupenhorn      3b              0        1975          47   \n",
       "4     Arysallee      11              0        1980          42   \n",
       "\n",
       "   Krone Durchmesser in m  Stamm Umfang in cm  Baumhöhe in m  \\\n",
       "0                    11.0               189.0           17.0   \n",
       "1                    12.0               185.0           25.0   \n",
       "2                     8.0               135.0           12.0   \n",
       "3                     8.0               215.0           17.0   \n",
       "4                    13.0               176.0           17.0   \n",
       "\n",
       "                       Bezirk  \n",
       "0  Charlottenburg-Wilmersdorf  \n",
       "1  Charlottenburg-Wilmersdorf  \n",
       "2  Charlottenburg-Wilmersdorf  \n",
       "3  Charlottenburg-Wilmersdorf  \n",
       "4  Charlottenburg-Wilmersdorf  "
      ]
     },
     "execution_count": 6,
     "metadata": {},
     "output_type": "execute_result"
    }
   ],
   "source": [
    "pd.set_option(\"display.max_columns\", 85)\n",
    "pd.set_option(\"display.max_rows\", 85)\n",
    "\n",
    "df.head()"
   ]
  },
  {
   "cell_type": "code",
   "execution_count": 7,
   "id": "14f4bcf5",
   "metadata": {},
   "outputs": [
    {
     "data": {
      "text/plain": [
       "Unnamed: 0                  int64\n",
       "ID                         object\n",
       "Baum Nr.                   object\n",
       "Objektnr.                  object\n",
       "Objektname                 object\n",
       "Baumart deutsch            object\n",
       "Baumart botanisch          object\n",
       "Gattung botanisch          object\n",
       "Straße                     object\n",
       "Hausnr.                    object\n",
       "Hausnr. Zusatz             object\n",
       "Pflanzjahr                  int64\n",
       "Standalter                  int64\n",
       "Krone Durchmesser in m    float64\n",
       "Stamm Umfang in cm        float64\n",
       "Baumhöhe in m             float64\n",
       "Bezirk                     object\n",
       "dtype: object"
      ]
     },
     "execution_count": 7,
     "metadata": {},
     "output_type": "execute_result"
    }
   ],
   "source": [
    "df.dtypes"
   ]
  },
  {
   "cell_type": "code",
   "execution_count": 8,
   "id": "13ea2995",
   "metadata": {},
   "outputs": [
    {
     "name": "stdout",
     "output_type": "stream",
     "text": [
      "Index(['Unnamed: 0', 'ID', 'Baum Nr.', 'Objektnr.', 'Objektname',\n",
      "       'Baumart deutsch', 'Baumart botanisch', 'Gattung botanisch', 'Straße',\n",
      "       'Hausnr.', 'Hausnr. Zusatz', 'Pflanzjahr', 'Standalter',\n",
      "       'Krone Durchmesser in m', 'Stamm Umfang in cm', 'Baumhöhe in m',\n",
      "       'Bezirk'],\n",
      "      dtype='object')\n"
     ]
    }
   ],
   "source": [
    "print(df.columns)\n"
   ]
  },
  {
   "cell_type": "code",
   "execution_count": null,
   "id": "a6bc62ab",
   "metadata": {},
   "outputs": [],
   "source": []
  },
  {
   "cell_type": "markdown",
   "id": "93f4effd",
   "metadata": {},
   "source": [
    "# Top 10 Trees per District Visualization\n",
    "1. Check for Districts\n",
    "2. Group by District\n",
    "3. Make groups\n",
    "4. Filter for top 10 trees"
   ]
  },
  {
   "cell_type": "code",
   "execution_count": 9,
   "id": "42e8feda",
   "metadata": {},
   "outputs": [
    {
     "name": "stdout",
     "output_type": "stream",
     "text": [
      "['Charlottenburg-Wilmersdorf' 'Friedrichshain-Kreuzberg' 'Lichtenberg'\n",
      " 'Marzahn-Hellersdorf' 'Neukölln' 'Pankow' 'Reinickendorf' 'Spandau'\n",
      " 'Steglitz-Zehlendorf' 'Tempelhof-Schöneberg' 'Treptow-Köpenick']\n"
     ]
    }
   ],
   "source": [
    "print(df['Bezirk'].unique())"
   ]
  },
  {
   "cell_type": "code",
   "execution_count": 10,
   "id": "e6110590",
   "metadata": {},
   "outputs": [],
   "source": [
    "### Splitting Groups per district\n",
    "\n",
    "df_district = df.groupby(['Bezirk'])"
   ]
  },
  {
   "cell_type": "code",
   "execution_count": 17,
   "id": "67ac1f71",
   "metadata": {},
   "outputs": [],
   "source": [
    "### Defining groups\n",
    "df_marzahn = df_district.get_group('Marzahn-Hellersdorf')"
   ]
  },
  {
   "cell_type": "code",
   "execution_count": 18,
   "id": "450951cf",
   "metadata": {},
   "outputs": [],
   "source": [
    "### Filter out top 10 District trees\n",
    "\n",
    "df_trees_in_charlottenburg = df_charlottenburg['Baumart deutsch'].value_counts()"
   ]
  },
  {
   "cell_type": "code",
   "execution_count": 19,
   "id": "f18fa3ad",
   "metadata": {},
   "outputs": [
    {
     "data": {
      "text/plain": [
       "pandas.core.series.Series"
      ]
     },
     "execution_count": 19,
     "metadata": {},
     "output_type": "execute_result"
    }
   ],
   "source": [
    "type(df_trees_in_charlottenburg)\n"
   ]
  },
  {
   "cell_type": "code",
   "execution_count": 20,
   "id": "11b0731f",
   "metadata": {},
   "outputs": [
    {
     "data": {
      "text/plain": [
       "<AxesSubplot:title={'center':'Top Ten Trees in Marzahn-Hellersdorf'}>"
      ]
     },
     "execution_count": 20,
     "metadata": {},
     "output_type": "execute_result"
    },
    {
     "data": {
      "image/png": "[encoded data removed]",
      "text/plain": [
       "<Figure size 432x288 with 1 Axes>"
      ]
     },
     "metadata": {
      "needs_background": "light"
     },
     "output_type": "display_data"
    }
   ],
   "source": [
    "df_trees_in_charlottenburg.head(10).plot.bar(title=\"Top Ten Trees in Marzahn-Hellersdorf\")"
   ]
  },
  {
   "cell_type": "markdown",
   "id": "f0c8f45a",
   "metadata": {},
   "source": []
  },
  {
   "cell_type": "markdown",
   "id": "25d4f0df",
   "metadata": {},
   "source": [
    "# Top 10 Strees with most trees per District Visualization\n"
   ]
  },
  {
   "cell_type": "code",
   "execution_count": 21,
   "id": "0016de0d",
   "metadata": {},
   "outputs": [],
   "source": [
    "df_streets_in_marzahn = df_marzahn['Straße'].value_counts()"
   ]
  },
  {
   "cell_type": "code",
   "execution_count": 22,
   "id": "019a17e8",
   "metadata": {},
   "outputs": [
    {
     "data": {
      "text/plain": [
       "<AxesSubplot:title={'center':'Streets with most Trees in Marzahn-Hellersdorf'}>"
      ]
     },
     "execution_count": 22,
     "metadata": {},
     "output_type": "execute_result"
    },
    {
     "data": {
      "image/png": "[encoded data removed]",
      "text/plain": [
       "<Figure size 432x288 with 1 Axes>"
      ]
     },
     "metadata": {
      "needs_background": "light"
     },
     "output_type": "display_data"
    }
   ],
   "source": [
    "df_streets_in_marzahn.head(10).plot.bar(title=\"Streets with most Trees in Marzahn-Hellersdorf\")"
   ]
  },
  {
   "cell_type": "markdown",
   "id": "5634c2e3",
   "metadata": {},
   "source": [
    "## Top Trees\n",
    "1. oldest\n",
    "2. highest"
   ]
  },
  {
   "cell_type": "code",
   "execution_count": 23,
   "id": "a4597607",
   "metadata": {},
   "outputs": [
    {
     "data": {
      "text/plain": [
       "<bound method Series.idxmax of 90284     11.0\n",
       "90285      3.0\n",
       "90286     12.0\n",
       "90287      4.0\n",
       "90288     16.0\n",
       "          ... \n",
       "136610     7.0\n",
       "136611     7.0\n",
       "136612     7.0\n",
       "136613     7.0\n",
       "136614     7.0\n",
       "Name: Baumhöhe in m, Length: 46331, dtype: float64>"
      ]
     },
     "execution_count": 23,
     "metadata": {},
     "output_type": "execute_result"
    }
   ],
   "source": [
    "df_marzahn['Baumhöhe in m'].idxmax"
   ]
  },
  {
   "cell_type": "code",
   "execution_count": 24,
   "id": "78a53be3",
   "metadata": {},
   "outputs": [
    {
     "name": "stdout",
     "output_type": "stream",
     "text": [
      "        Unnamed: 0                 ID Baum Nr. Objektnr.           Objektname  \\\n",
      "123976      123976  00008100:001bcac9       32     44067  Altentreptower Str.   \n",
      "\n",
      "       Baumart deutsch     Baumart botanisch Gattung botanisch  \\\n",
      "123976         Robinie  Robinia pseudoacacia           ROBINIA   \n",
      "\n",
      "                       Straße Hausnr. Hausnr. Zusatz  Pflanzjahr  Standalter  \\\n",
      "123976  Altentreptower Straße       0              0        1993          29   \n",
      "\n",
      "        Krone Durchmesser in m  Stamm Umfang in cm  Baumhöhe in m  \\\n",
      "123976                     6.0                48.0           40.0   \n",
      "\n",
      "                     Bezirk  \n",
      "123976  Marzahn-Hellersdorf  \n"
     ]
    }
   ],
   "source": [
    "### Heighest Tree\n",
    "max_height_in_marzahn = df_marzahn['Baumhöhe in m'].idxmax()\n",
    "heighest_tree_in_marzahn = df_marzahn.loc[[max_height_in_marzahn]]\n",
    "print(heighest_tree_in_marzahn)"
   ]
  },
  {
   "cell_type": "code",
   "execution_count": 25,
   "id": "6e535144",
   "metadata": {},
   "outputs": [
    {
     "name": "stdout",
     "output_type": "stream",
     "text": [
      "       Unnamed: 0                 ID Baum Nr. Objektnr.        Objektname  \\\n",
      "94719       94719  00008100:001ac1bc   333/13     41388  Hultschiner Damm   \n",
      "\n",
      "                 Baumart deutsch           Baumart botanisch  \\\n",
      "94719  Winter-Linde 'Greenspire'  Tilia cordata 'Greenspire'   \n",
      "\n",
      "      Gattung botanisch            Straße Hausnr. Hausnr. Zusatz  Pflanzjahr  \\\n",
      "94719             TILIA  Hultschiner Damm       0              0        1193   \n",
      "\n",
      "       Standalter  Krone Durchmesser in m  Stamm Umfang in cm  Baumhöhe in m  \\\n",
      "94719         829                     5.0                73.0            9.0   \n",
      "\n",
      "                    Bezirk  \n",
      "94719  Marzahn-Hellersdorf  \n"
     ]
    }
   ],
   "source": [
    "### Oldest Tree\n",
    "max_age_in_marzahn = df_marzahn['Standalter'].idxmax()\n",
    "oldest_tree_in_marzahn = df_marzahn.loc[[max_age_in_marzahn]]\n",
    "print(oldest_tree_in_marzahn)"
   ]
  },
  {
   "cell_type": "code",
   "execution_count": null,
   "id": "15c1a81e",
   "metadata": {},
   "outputs": [],
   "source": []
  },
  {
   "cell_type": "markdown",
   "id": "f023d418",
   "metadata": {},
   "source": []
  },
  {
   "cell_type": "markdown",
   "id": "bb098664",
   "metadata": {},
   "source": []
  }
 ],
 "metadata": {
  "kernelspec": {
   "display_name": "Python 3 (ipykernel)",
   "language": "python",
   "name": "python3"
  },
  "language_info": {
   "codemirror_mode": {
    "name": "ipython",
    "version": 3
   },
   "file_extension": ".py",
   "mimetype": "text/x-python",
   "name": "python",
   "nbconvert_exporter": "python",
   "pygments_lexer": "ipython3",
   "version": "3.9.7"
  }
 },
 "nbformat": 4,
 "nbformat_minor": 5
}
