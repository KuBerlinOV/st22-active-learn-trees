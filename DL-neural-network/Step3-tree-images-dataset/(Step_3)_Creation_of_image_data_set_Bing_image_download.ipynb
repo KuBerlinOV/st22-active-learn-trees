{
  "nbformat": 4,
  "nbformat_minor": 0,
  "metadata": {
    "colab": {
      "name": "(Step 3) - Creation of image data set: Bing image download",
      "provenance": [],
      "collapsed_sections": [
        "rffVezrRzCY8"
      ]
    },
    "kernelspec": {
      "name": "python3",
      "display_name": "Python 3"
    },
    "language_info": {
      "name": "python"
    }
  },
  "cells": [
    {
      "cell_type": "markdown",
      "source": [
        "# (Step 3) - Creation of image data set: Bing image download\n",
        " this is a part of a bigger pipeline for the trees project \n"
      ],
      "metadata": {
        "id": "NxN1xAPssmC4"
      }
    },
    {
      "cell_type": "code",
      "source": [
        "import pandas as pd\n",
        "import numpy as np\n",
        "import matplotlib.pyplot as plt\n",
        "import seaborn as sns\n",
        "import sklearn.metrics as sk_metrics\n",
        "\n",
        "import time"
      ],
      "metadata": {
        "id": "lREnZK5_2Jlx"
      },
      "execution_count": null,
      "outputs": []
    },
    {
      "cell_type": "markdown",
      "source": [
        "## Trees in Berlin (see step 0)\n",
        "- Based on a previous analysis (see step 0) we focus on  the most common trees in Berlin ( > 4000 trees). \n",
        "- Based on comparing different existing plant datasets (Step 1) we decided to create our own dataset by performing a bing image download.\n",
        "- We create here an image dataset of leaves of these most common trees in Berlin.\n",
        "\n",
        "\n",
        "`'ACER leaves', 'AESCULUS leaves','BETULA leaves', 'CARPINUS leaves', 'CORYLUS leaves','CRATAEGUS leaves','FRAXINUS leaves','PLATANUS leaves','POPULUS leaves', 'PRUNUS leaves','QUERCUS leaves','ROBINIA leaves','SORBUS leaves','TILIA leaves', 'ULMUS leaves', 'Fagus leaves'`"
      ],
      "metadata": {
        "id": "rffVezrRzCY8"
      }
    },
    {
      "cell_type": "markdown",
      "source": [
        "## Download images from Bing image \n",
        " to ensure better results the search is based on 2 criteria :\n",
        " \n",
        "  1- use Latin names of the trees.\n",
        "\n",
        "  2- limiting the Dataset to just tree leaves, to easily judge the results as the model intends to use Austrian leaves dataset as an external test set."
      ],
      "metadata": {
        "id": "6y9wZmpAsmum"
      }
    },
    {
      "cell_type": "code",
      "source": [
        "berlin_trees = ['ACER leaves', 'AESCULUS leaves','BETULA leaves', 'CARPINUS leaves', 'CORYLUS leaves','CRATAEGUS leaves','FRAXINUS leaves','PLATANUS leaves','POPULUS leaves', 'PRUNUS leaves','QUERCUS leaves','ROBINIA leaves','SORBUS leaves','TILIA leaves', 'ULMUS leaves', 'Fagus leaves']"
      ],
      "metadata": {
        "id": "hY2ASq5QxYwo"
      },
      "execution_count": null,
      "outputs": []
    },
    {
      "cell_type": "code",
      "source": [
        "!pip install bing-image-downloader\n",
        "from bing_image_downloader import downloader\n",
        "from fastai.imports import *\n",
        "\n",
        "path = Path('trees-bing-Berlin-test12')\n",
        "\n",
        "### Download images from Bing image\n",
        "\n",
        "for o in berlin_trees:\n",
        "  downloader.download(o, limit=50, output_dir=path, adult_filter_off=False, force_replace=False, timeout=5)"
      ],
      "metadata": {
        "id": "WNnd0O3U_lAM"
      },
      "execution_count": null,
      "outputs": []
    },
    {
      "cell_type": "markdown",
      "source": [
        "## Inital cleaning of the Dataset"
      ],
      "metadata": {
        "id": "i6v9JygiQ4D0"
      }
    },
    {
      "cell_type": "code",
      "source": [
        "### cheaking if all images are all jpeg ??\n",
        "\n",
        "import os\n",
        "import cv2\n",
        "def check_images( s_dir, ext_list):\n",
        "    bad_images=[]\n",
        "    bad_ext=[]\n",
        "    s_list= os.listdir(s_dir)\n",
        "    for klass in s_list:\n",
        "        klass_path=os.path.join (s_dir, klass)\n",
        "        print ('processing class directory ', klass)\n",
        "        if os.path.isdir(klass_path):\n",
        "            file_list=os.listdir(klass_path)\n",
        "            for f in file_list:               \n",
        "                f_path=os.path.join (klass_path,f)\n",
        "                index=f.rfind('.')\n",
        "                ext=f[index+1:].lower()\n",
        "                if ext not in ext_list:\n",
        "                    print('file ', f_path, ' has an invalid extension ', ext)\n",
        "                    bad_ext.append(f_path)\n",
        "                if os.path.isfile(f_path):\n",
        "                    try:\n",
        "                        img=cv2.imread(f_path)\n",
        "                        shape=img.shape\n",
        "                    except:\n",
        "                        print('file ', f_path, ' is not a valid image file')\n",
        "                        bad_images.append(f_path)\n",
        "                else:\n",
        "                    print('*** fatal error, you a sub directory ', f, ' in class directory ', klass)\n",
        "        else:\n",
        "            print ('*** WARNING*** you have files in ', s_dir, ' it should only contain sub directories')\n",
        "    return bad_images, bad_ext\n",
        "\n",
        "#source_dir = \"/content/gdrive/MyDrive/trees-bing-Berlin-test12\"\n",
        "source_dir = \"/content/trees-bing-Berlin-test12\"\n",
        "good_exts=['jpg', 'png', 'jpeg', 'gif', 'bmp' ] # list of acceptable extensions\n",
        "bad_file_list, bad_ext_list=check_images(source_dir, good_exts)\n",
        "if len(bad_file_list) !=0:\n",
        "    print('improper image files are listed below')\n",
        "    for i in range (len(bad_file_list)):\n",
        "        print (bad_file_list[i])\n",
        "else:\n",
        "    print(' no improper image files were found')"
      ],
      "metadata": {
        "colab": {
          "base_uri": "https://localhost:8080/"
        },
        "id": "uZXf2pI-3smz",
        "outputId": "7f5167e0-37c3-4123-a6e4-042dc1d465fa"
      },
      "execution_count": null,
      "outputs": [
        {
          "output_type": "stream",
          "name": "stdout",
          "text": [
            "processing class directory  CORYLUS leaves\n",
            "processing class directory  TILIA leaves\n",
            "processing class directory  QUERCUS leaves\n",
            "processing class directory  FRAXINUS leaves\n",
            "processing class directory  PLATANUS leaves\n",
            "file  /content/trees-bing-Berlin-test12/PLATANUS leaves/Image_23.gif  is not a valid image file\n",
            "processing class directory  ACER leaves\n",
            "processing class directory  POPULUS leaves\n",
            "file  /content/trees-bing-Berlin-test12/POPULUS leaves/Image_44.gif  is not a valid image file\n",
            "file  /content/trees-bing-Berlin-test12/POPULUS leaves/Image_20.gif  is not a valid image file\n",
            "processing class directory  SORBUS leaves\n",
            "processing class directory  CARPINUS leaves\n",
            "file  /content/trees-bing-Berlin-test12/CARPINUS leaves/Image_46.gif  is not a valid image file\n",
            "processing class directory  PRUNUS leaves\n",
            "processing class directory  CRATAEGUS leaves\n",
            "file  /content/trees-bing-Berlin-test12/CRATAEGUS leaves/Image_6.gif  is not a valid image file\n",
            "processing class directory  ROBINIA leaves\n",
            "processing class directory  AESCULUS leaves\n",
            "processing class directory  Fagus leaves\n",
            "file  /content/trees-bing-Berlin-test12/Fagus leaves/Image_16.gif  is not a valid image file\n",
            "file  /content/trees-bing-Berlin-test12/Fagus leaves/Image_24.jpe  has an invalid extension  jpe\n",
            "processing class directory  BETULA leaves\n",
            "processing class directory  ULMUS leaves\n",
            "file  /content/trees-bing-Berlin-test12/ULMUS leaves/Image_18.jfif  has an invalid extension  jfif\n",
            "improper image files are listed below\n",
            "/content/trees-bing-Berlin-test12/PLATANUS leaves/Image_23.gif\n",
            "/content/trees-bing-Berlin-test12/POPULUS leaves/Image_44.gif\n",
            "/content/trees-bing-Berlin-test12/POPULUS leaves/Image_20.gif\n",
            "/content/trees-bing-Berlin-test12/CARPINUS leaves/Image_46.gif\n",
            "/content/trees-bing-Berlin-test12/CRATAEGUS leaves/Image_6.gif\n",
            "/content/trees-bing-Berlin-test12/Fagus leaves/Image_16.gif\n"
          ]
        }
      ]
    },
    {
      "cell_type": "markdown",
      "source": [
        "Achive: I found 2 files so i manually fixed them however, there maybe a chance to automate this in the future (written by:Hany date: 13-07-2022)"
      ],
      "metadata": {
        "id": "8-XLRpii7zG3"
      }
    },
    {
      "cell_type": "markdown",
      "source": [
        "Automatic removal of improper files:"
      ],
      "metadata": {
        "id": "cJfcYH4S9Jhq"
      }
    },
    {
      "cell_type": "code",
      "source": [
        "# delete improper files:\n",
        "import os\n",
        "for each in bad_file_list:\n",
        "  os.remove(each)\n",
        "  print('removed:' , each)"
      ],
      "metadata": {
        "id": "UprVuSpU9A9p"
      },
      "execution_count": null,
      "outputs": []
    },
    {
      "cell_type": "markdown",
      "source": [
        "#### Mount your google drive and manually save the image dataset with all its files on your personal google drive"
      ],
      "metadata": {
        "id": "2Gc_-SxB_q66"
      }
    },
    {
      "cell_type": "code",
      "source": [
        "from google.colab import drive\n",
        "drive.mount('/content/gdrive')"
      ],
      "metadata": {
        "id": "ufmawc2LN8Xt"
      },
      "execution_count": null,
      "outputs": []
    },
    {
      "cell_type": "markdown",
      "source": [
        "#### Manually save the image dataset with all its files on your personal google drive by dragging it to MyDrive"
      ],
      "metadata": {
        "id": "XSkUkgys_cM4"
      }
    },
    {
      "cell_type": "markdown",
      "source": [
        "#### Acess the dataset with the following code, but please adjust for the appropriate path:\n",
        "\n"
      ],
      "metadata": {
        "id": "OatrhjoE_q6m"
      }
    },
    {
      "cell_type": "code",
      "source": [
        "import pathlib\n",
        "data_dir = \"/content/gdrive/MyDrive/trees-bing-Berlin-test12\"\n",
        "data_dir = pathlib.Path(data_dir)"
      ],
      "metadata": {
        "id": "RWqwA5ROLWie"
      },
      "execution_count": null,
      "outputs": []
    },
    {
      "cell_type": "code",
      "source": [
        "## checking the path,\n",
        "\n",
        "!ls /content/gdrive/MyDrive/trees-bing-Berlin-test12\n",
        "\n",
        "gdrive_pth = \"/content/gdrive/MyDrive/trees-bing-Berlin-test12\"\n",
        "\n"
      ],
      "metadata": {
        "id": "-NBOEGoVtpCc",
        "colab": {
          "base_uri": "https://localhost:8080/"
        },
        "outputId": "43f6bc83-41e1-47e8-a7af-800c3325f67c"
      },
      "execution_count": null,
      "outputs": [
        {
          "output_type": "stream",
          "name": "stdout",
          "text": [
            "'ACER leaves'\t   'CORYLUS leaves'    'PLATANUS leaves'  'ROBINIA leaves'\n",
            "'AESCULUS leaves'  'CRATAEGUS leaves'  'POPULUS leaves'   'SORBUS leaves'\n",
            "'BETULA leaves'    'Fagus leaves'      'PRUNUS leaves'\t  'TILIA leaves'\n",
            "'CARPINUS leaves'  'FRAXINUS leaves'   'QUERCUS leaves'   'ULMUS leaves'\n"
          ]
        }
      ]
    }
  ]
}